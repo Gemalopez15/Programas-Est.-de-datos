{
  "nbformat": 4,
  "nbformat_minor": 0,
  "metadata": {
    "colab": {
      "provenance": [],
      "authorship_tag": "ABX9TyNK4W1YP1DeSpI9/xZ4wIbX",
      "include_colab_link": true
    },
    "kernelspec": {
      "name": "python3",
      "display_name": "Python 3"
    },
    "language_info": {
      "name": "python"
    }
  },
  "cells": [
    {
      "cell_type": "markdown",
      "metadata": {
        "id": "view-in-github",
        "colab_type": "text"
      },
      "source": [
        "<a href=\"https://colab.research.google.com/github/Gemalopez15/Programas-Est.-de-datos/blob/main/Ejercicio_E5.ipynb\" target=\"_parent\"><img src=\"https://colab.research.google.com/assets/colab-badge.svg\" alt=\"Open In Colab\"/></a>"
      ]
    },
    {
      "cell_type": "code",
      "execution_count": 1,
      "metadata": {
        "colab": {
          "base_uri": "https://localhost:8080/"
        },
        "id": "P_G6HM8bJ0gQ",
        "outputId": "c2e9d940-e970-452c-f2f6-8eadd3e540c8"
      },
      "outputs": [
        {
          "output_type": "stream",
          "name": "stdout",
          "text": [
            "[4, 'dias', 5, 'perro']\n"
          ]
        }
      ],
      "source": [
        "class arreglo:\n",
        "  def entrada (self):\n",
        "    self.lista= []\n",
        "    self.lista.append(4)\n",
        "    self.lista.append(\"dias\")\n",
        "    self.lista.append(5)\n",
        "    self.lista.append(\"perro\")\n",
        "    print (self.lista)\n",
        "obj=arreglo()\n",
        "obj. entrada ()"
      ]
    }
  ]
}