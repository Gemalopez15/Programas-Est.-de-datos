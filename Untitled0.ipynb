{
  "cells": [
    {
      "cell_type": "markdown",
      "metadata": {
        "id": "view-in-github",
        "colab_type": "text"
      },
      "source": [
        "<a href=\"https://colab.research.google.com/github/Gemalopez15/Programas-Est.-de-datos/blob/main/Untitled0.ipynb\" target=\"_parent\"><img src=\"https://colab.research.google.com/assets/colab-badge.svg\" alt=\"Open In Colab\"/></a>"
      ]
    },
    {
      "cell_type": "markdown",
      "metadata": {
        "id": "qEsGp_smYGdI"
      },
      "source": [
        "Practica 1:\n",
        "\n",
        "Comparacion de vectores\n",
        "\n",
        "Gema Lizeth López Mendoza\n",
        "\n",
        "22/08/2022"
      ]
    },
    {
      "cell_type": "markdown",
      "metadata": {
        "id": "Slxuo6dvZVPt"
      },
      "source": [
        "# **Algoritmo**\n",
        "\n",
        "Vamos a copturar un texto, lo vamos a pasar a un vetor, y se va a comparar con otro vector y revisar todas o alguna de las palabras; si estan todas las palabras, se realiza una accion, si no, se realiza otra acción.\n",
        "\n",
        "Se utilizan los metodos Split()"
      ]
    },
    {
      "cell_type": "code",
      "execution_count": null,
      "metadata": {
        "colab": {
          "background_save": true
        },
        "id": "aeJFcjE3X5zw"
      },
      "outputs": [],
      "source": [
        "texto=\"hola, como estas, espero que te encuentres bien, Bienvenido a programar\"\n",
        "aTexto=texto.split() "
      ]
    },
    {
      "cell_type": "code",
      "execution_count": null,
      "metadata": {
        "colab": {
          "base_uri": "https://localhost:8080/"
        },
        "id": "7H8RiwmebG2S",
        "outputId": "3e79fa61-5100-4102-80b8-3979f4fbaa86"
      },
      "outputs": [
        {
          "name": "stdout",
          "output_type": "stream",
          "text": [
            "['hola,', 'como', 'estas,', 'espero', 'que', 'te', 'encuentres', 'bien,', 'Bienvenido', 'a', 'programar']\n"
          ]
        }
      ],
      "source": [
        "print(aTexto)"
      ]
    },
    {
      "cell_type": "markdown",
      "metadata": {
        "id": "0tlwFk7jio2C"
      },
      "source": [
        "Contruimos la busqueda\n"
      ]
    },
    {
      "cell_type": "code",
      "execution_count": null,
      "metadata": {
        "id": "6V4iO-FkeeI-"
      },
      "outputs": [],
      "source": [
        "palabras=['hola']"
      ]
    },
    {
      "cell_type": "markdown",
      "metadata": {
        "id": "51hraYQki7df"
      },
      "source": [
        "Buscamos si existe alguna coincidencia"
      ]
    },
    {
      "cell_type": "code",
      "execution_count": null,
      "metadata": {
        "colab": {
          "base_uri": "https://localhost:8080/"
        },
        "id": "dUoci4NRi_-m",
        "outputId": "cb7cc8e5-1df5-496e-a742-d2d83a0ddd01"
      },
      "outputs": [
        {
          "name": "stdout",
          "output_type": "stream",
          "text": [
            "El texto no es un saludo\n"
          ]
        }
      ],
      "source": [
        "if any(palabra in aTexto for palabra in palabras):\n",
        "  print(\"el texto es un saludo\")\n",
        "else:\n",
        "  print(\"El texto no es un saludo\")"
      ]
    }
  ],
  "metadata": {
    "colab": {
      "collapsed_sections": [],
      "name": "Untitled0.ipynb",
      "provenance": [],
      "authorship_tag": "ABX9TyP7ASUfXwjbOv2Uoszkbbvd",
      "include_colab_link": true
    },
    "kernelspec": {
      "display_name": "Python 3",
      "name": "python3"
    },
    "language_info": {
      "name": "python"
    }
  },
  "nbformat": 4,
  "nbformat_minor": 0
}