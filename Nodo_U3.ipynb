{
  "nbformat": 4,
  "nbformat_minor": 0,
  "metadata": {
    "colab": {
      "provenance": [],
      "authorship_tag": "ABX9TyMfV1a+f5W4O+mO7abSEK5K",
      "include_colab_link": true
    },
    "kernelspec": {
      "name": "python3",
      "display_name": "Python 3"
    },
    "language_info": {
      "name": "python"
    }
  },
  "cells": [
    {
      "cell_type": "markdown",
      "metadata": {
        "id": "view-in-github",
        "colab_type": "text"
      },
      "source": [
        "<a href=\"https://colab.research.google.com/github/Gemalopez15/Programas-Est.-de-datos/blob/main/Nodo_U3.ipynb\" target=\"_parent\"><img src=\"https://colab.research.google.com/assets/colab-badge.svg\" alt=\"Open In Colab\"/></a>"
      ]
    },
    {
      "cell_type": "code",
      "execution_count": 2,
      "metadata": {
        "colab": {
          "base_uri": "https://localhost:8080/"
        },
        "id": "TfGmbaF2SNYW",
        "outputId": "1d0c8f77-c8b9-4506-c4ea-e9845c231df7"
      },
      "outputs": [
        {
          "output_type": "stream",
          "name": "stdout",
          "text": [
            "<bound method Nodo.dato of <__main__.Nodo object at 0x7fcfc5ddf310>> <bound method Nodo.proximo of <__main__.Nodo object at 0x7fcfc5ddf310>>\n",
            "<bound method Nodo.dato of <__main__.Nodo object at 0x7fcfc5ddf590>> <bound method Nodo.proximo of <__main__.Nodo object at 0x7fcfc5ddf590>>\n",
            "<bound method Nodo.dato of <__main__.Nodo object at 0x7fcfc5ddf5d0>> <bound method Nodo.proximo of <__main__.Nodo object at 0x7fcfc5ddf5d0>>\n",
            "Nodo [manzana]\n",
            "Nodo [pera]\n",
            "Nodo [uva]\n"
          ]
        }
      ],
      "source": [
        "class Nodo(object):\n",
        "    def __init__( self, dato,prox=None ):\n",
        "        self.Dato = dato\n",
        "        self.Prox = prox\n",
        "\n",
        "    def __str__(self):\n",
        "        return 'Nodo ['+str(self.Dato)+']'\n",
        "\n",
        "    def dato(self):\n",
        "        return self.Dato\n",
        "    def dato(self,dato):\n",
        "        self.Dato = dato\n",
        "    def proximo(self):\n",
        "        return self.Prox\n",
        "    def proximo(self,prox):\n",
        "        self.Prox = prox \n",
        "if __name__ == '__main__':\n",
        "    nodo1 = Nodo(\"manzana\")\n",
        "    nodo2 = Nodo(\"pera\",nodo1)\n",
        "    nodo3 = Nodo(\"uva\",nodo2)\n",
        "    print (nodo1.dato,nodo1.proximo)\n",
        "    print (nodo2.dato,nodo2.proximo)\n",
        "    print (nodo3.dato,nodo3.proximo)\n",
        "    print (nodo1)\n",
        "    print (nodo2)\n",
        "    print (nodo3)"
      ]
    }
  ]
}