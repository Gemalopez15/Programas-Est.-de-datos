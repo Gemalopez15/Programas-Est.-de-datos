{
  "nbformat": 4,
  "nbformat_minor": 0,
  "metadata": {
    "colab": {
      "provenance": [],
      "authorship_tag": "ABX9TyNE+/lsFOQR9zlCpKW2T5yu",
      "include_colab_link": true
    },
    "kernelspec": {
      "name": "python3",
      "display_name": "Python 3"
    },
    "language_info": {
      "name": "python"
    }
  },
  "cells": [
    {
      "cell_type": "markdown",
      "metadata": {
        "id": "view-in-github",
        "colab_type": "text"
      },
      "source": [
        "<a href=\"https://colab.research.google.com/github/Gemalopez15/Programas-Est.-de-datos/blob/main/Ejercicio_E1.ipynb\" target=\"_parent\"><img src=\"https://colab.research.google.com/assets/colab-badge.svg\" alt=\"Open In Colab\"/></a>"
      ]
    },
    {
      "cell_type": "code",
      "execution_count": 3,
      "metadata": {
        "colab": {
          "base_uri": "https://localhost:8080/"
        },
        "id": "JejoAKq_FwuW",
        "outputId": "8586869a-7e5e-4586-9549-4b920b28770b"
      },
      "outputs": [
        {
          "output_type": "stream",
          "name": "stdout",
          "text": [
            "[8, 7, 2, 6, 3]\n",
            "el mayor es:  8\n"
          ]
        }
      ],
      "source": [
        "class Ejercicio1:\n",
        "  def Max(list):\n",
        "    if len(list) == 1:\n",
        "      return list[0]\n",
        "    else:\n",
        "       m = max(list[1:])    \n",
        "    return m if m > list[0] else list[0]\n",
        "\n",
        "  def listaN():\n",
        "    numeros = [8, 7, 2, 6, 3]\n",
        "    print(numeros)\n",
        "    print(\"el mayor es: \", max(numeros))\n",
        "\n",
        "obj=Ejercicio1\n",
        "obj.listaN()"
      ]
    }
  ]
}