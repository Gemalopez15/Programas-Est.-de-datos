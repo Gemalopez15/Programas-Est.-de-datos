{
  "nbformat": 4,
  "nbformat_minor": 0,
  "metadata": {
    "colab": {
      "provenance": [],
      "authorship_tag": "ABX9TyPqXsymJ4xhbfiIBAqO+Atm",
      "include_colab_link": true
    },
    "kernelspec": {
      "name": "python3",
      "display_name": "Python 3"
    },
    "language_info": {
      "name": "python"
    }
  },
  "cells": [
    {
      "cell_type": "markdown",
      "metadata": {
        "id": "view-in-github",
        "colab_type": "text"
      },
      "source": [
        "<a href=\"https://colab.research.google.com/github/Gemalopez15/Programas-Est.-de-datos/blob/main/Ejercicio_E2.ipynb\" target=\"_parent\"><img src=\"https://colab.research.google.com/assets/colab-badge.svg\" alt=\"Open In Colab\"/></a>"
      ]
    },
    {
      "cell_type": "code",
      "execution_count": 5,
      "metadata": {
        "colab": {
          "base_uri": "https://localhost:8080/"
        },
        "id": "ZUEJjBmCHi-E",
        "outputId": "050c9320-007d-47f4-d195-48f223de9c34"
      },
      "outputs": [
        {
          "output_type": "stream",
          "name": "stdout",
          "text": [
            "['Hola', 'a', 'mi', 'estimado', 'bro']\n",
            "['Hola', 'estimado', 'hermano']\n",
            "las palabras iguales son: Hola\n",
            "las palabras iguales son: estimado\n"
          ]
        }
      ],
      "source": [
        "texto= \"Hola a mi estimado bro\"\n",
        "X=texto.split()\n",
        "print (X)\n",
        "texto2= \"Hola estimado hermano\"\n",
        "X2=texto2.split()\n",
        "print (X2)\n",
        "if texto == texto2:\n",
        "  print(\"las dos frases son iguales \")\n",
        "if X[0]==X2[0] or X[0]==X2 [1] or X[0]==X2 [2]:\n",
        "  print(\"las palabras iguales son:\",X[0])\n",
        "if X[1]==X2[0] or X[1]==X2[1] or X[1] ==X2 [2]:\n",
        "  print(\"las palabras iguales son:\",X[1])\n",
        "if X[2]==X2[0] or X[2]==X2[1] or X[2]==X2[2]:\n",
        "  print(\"las palabras iguales son: \",X[2])\n",
        "if X[3]==X2[0] or X[3]==X2 [1] or X[3] ==X2 [2]:\n",
        "  print(\"las palabras iguales son:\",X[3])\n",
        "if X[4]==X2[0] or X[4]==X2[1] or X[4]==X2 [2]:\n",
        "  print(\"las palabras iguales son: \",X[4])"
      ]
    }
  ]
}