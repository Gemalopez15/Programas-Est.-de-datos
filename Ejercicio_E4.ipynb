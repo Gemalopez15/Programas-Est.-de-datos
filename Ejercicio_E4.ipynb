{
  "nbformat": 4,
  "nbformat_minor": 0,
  "metadata": {
    "colab": {
      "provenance": [],
      "authorship_tag": "ABX9TyNEJquvHcLE2zq8cnUZRomU",
      "include_colab_link": true
    },
    "kernelspec": {
      "name": "python3",
      "display_name": "Python 3"
    },
    "language_info": {
      "name": "python"
    }
  },
  "cells": [
    {
      "cell_type": "markdown",
      "metadata": {
        "id": "view-in-github",
        "colab_type": "text"
      },
      "source": [
        "<a href=\"https://colab.research.google.com/github/Gemalopez15/Programas-Est.-de-datos/blob/main/Ejercicio_E4.ipynb\" target=\"_parent\"><img src=\"https://colab.research.google.com/assets/colab-badge.svg\" alt=\"Open In Colab\"/></a>"
      ]
    },
    {
      "cell_type": "code",
      "execution_count": 1,
      "metadata": {
        "colab": {
          "base_uri": "https://localhost:8080/"
        },
        "id": "HCwQ3_mtGxIz",
        "outputId": "c82f17b0-0e86-4f68-fc18-4ffd1190a9dc"
      },
      "outputs": [
        {
          "output_type": "stream",
          "name": "stdout",
          "text": [
            "[23, 71, 47, 12, 5, 56]\n",
            "[71, 56, 47, 23, 12, 5]\n"
          ]
        }
      ],
      "source": [
        "def ordenar(lista, cant):\n",
        "  if cant>1:\n",
        "    for f in range(0, cant-1):\n",
        "      if lista[f]<lista[f + 1]:\n",
        "        aux=lista[f]\n",
        "        lista[f]=lista[f + 1]\n",
        "        lista[f + 1] = aux\n",
        "      ordenar(lista, cant - 1)\n",
        "\n",
        "datos=[23,71,47,12,5,56]*1\n",
        "print(datos)\n",
        "ordenar(datos, len(datos))\n",
        "print(datos)"
      ]
    }
  ]
}