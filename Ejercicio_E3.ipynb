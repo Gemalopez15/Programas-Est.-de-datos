{
  "nbformat": 4,
  "nbformat_minor": 0,
  "metadata": {
    "colab": {
      "provenance": [],
      "authorship_tag": "ABX9TyNWhvsB+ctiyXOYP3pxVUNY",
      "include_colab_link": true
    },
    "kernelspec": {
      "name": "python3",
      "display_name": "Python 3"
    },
    "language_info": {
      "name": "python"
    }
  },
  "cells": [
    {
      "cell_type": "markdown",
      "metadata": {
        "id": "view-in-github",
        "colab_type": "text"
      },
      "source": [
        "<a href=\"https://colab.research.google.com/github/Gemalopez15/Programas-Est.-de-datos/blob/main/Ejercicio_E3.ipynb\" target=\"_parent\"><img src=\"https://colab.research.google.com/assets/colab-badge.svg\" alt=\"Open In Colab\"/></a>"
      ]
    },
    {
      "cell_type": "code",
      "execution_count": 2,
      "metadata": {
        "colab": {
          "base_uri": "https://localhost:8080/"
        },
        "id": "MwEm7WsnEwgm",
        "outputId": "4e0801d8-2aa8-484b-946f-596f6636d698"
      },
      "outputs": [
        {
          "output_type": "stream",
          "name": "stdout",
          "text": [
            "ENTRADA\n",
            "G\n",
            "E\n",
            "M\n",
            "A\n",
            "SALIDA\n",
            "A\n",
            "M\n",
            "E\n",
            "G\n"
          ]
        }
      ],
      "source": [
        "pila = []\n",
        "print(\"ENTRADA\")\n",
        "pila.append('G')\n",
        "print('G')\n",
        "pila.append('E')\n",
        "print('E')\n",
        "pila.append('M')\n",
        "print('M')\n",
        "pila.append('A')\n",
        "print('A')\n",
        "\n",
        "\n",
        "print(\"SALIDA\")\n",
        "n=pila.pop()\n",
        "print(n)\n",
        "n=pila.pop()\n",
        "print(n)\n",
        "n=pila.pop()\n",
        "print(n)\n",
        "n=pila.pop()\n",
        "print(n)"
      ]
    }
  ]
}